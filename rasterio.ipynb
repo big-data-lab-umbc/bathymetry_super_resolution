{
 "cells": [
  {
   "cell_type": "code",
   "execution_count": 19,
   "metadata": {},
   "outputs": [],
   "source": [
    "import rasterio\n",
    "import numpy as np\n",
    "from osgeo import gdal"
   ]
  },
  {
   "cell_type": "code",
   "execution_count": 34,
   "metadata": {},
   "outputs": [
    {
     "data": {
      "text/plain": [
       "{'driver': 'GTiff',\n",
       " 'dtype': 'uint16',\n",
       " 'nodata': None,\n",
       " 'width': 512,\n",
       " 'height': 512,\n",
       " 'count': 1,\n",
       " 'crs': None,\n",
       " 'transform': Affine(1.0, 0.0, 0.0,\n",
       "        0.0, 1.0, 0.0)}"
      ]
     },
     "execution_count": 34,
     "metadata": {},
     "output_type": "execute_result"
    }
   ],
   "source": [
    "with rasterio.open('Tile_0.08_128.3_EPSG4326_Etopo.tif') as src: #open raster you would like to emulate\n",
    "        meta = src.meta #read the metadata of the tiff you would like to replicate\n",
    "meta"
   ]
  },
  {
   "cell_type": "code",
   "execution_count": 35,
   "metadata": {},
   "outputs": [
    {
     "data": {
      "text/plain": [
       "(512, 512)"
      ]
     },
     "execution_count": 35,
     "metadata": {},
     "output_type": "execute_result"
    }
   ],
   "source": [
    "fp = 'Tile_0.08_128.3_EPSG4326_Gebco.tif'\n",
    "ds = gdal.Open(fp)\n",
    "arr = ds.GetRasterBand(1).ReadAsArray()\n",
    "arr.shape"
   ]
  },
  {
   "cell_type": "code",
   "execution_count": 37,
   "metadata": {},
   "outputs": [
    {
     "name": "stderr",
     "output_type": "stream",
     "text": [
      "D:\\Anaconda\\envs\\pytorch2\\lib\\site-packages\\rasterio\\__init__.py:244: NotGeoreferencedWarning: The given matrix is equal to Affine.identity or its flipped counterpart. GDAL may ignore this matrix and save no geotransform without raising an error. This behavior is somewhat driver-specific.\n",
      "  **kwargs)\n"
     ]
    }
   ],
   "source": [
    "##what should be the size and data type of the written numpy array?\n",
    "with rasterio.open('Tile_0.08_128.3_EPSG4326_Etopo.tif', 'w', **meta) as dst:\n",
    "        dst.write(arr, 1) "
   ]
  },
  {
   "cell_type": "code",
   "execution_count": 39,
   "metadata": {},
   "outputs": [
    {
     "data": {
      "text/plain": [
       "{'driver': 'GTiff',\n",
       " 'dtype': 'uint16',\n",
       " 'nodata': None,\n",
       " 'width': 512,\n",
       " 'height': 512,\n",
       " 'count': 1,\n",
       " 'crs': None,\n",
       " 'transform': Affine(1.0, 0.0, 0.0,\n",
       "        0.0, 1.0, 0.0)}"
      ]
     },
     "execution_count": 39,
     "metadata": {},
     "output_type": "execute_result"
    }
   ],
   "source": [
    "with rasterio.open('Tile_0.08_128.3_EPSG4326_Etopo.tif') as src: #open raster you would like to emulate\n",
    "        meta = src.meta #read the metadata of the tiff you would like to replicate\n",
    "meta"
   ]
  }
 ],
 "metadata": {
  "interpreter": {
   "hash": "ad626bb987a73f87f2c6d54e7b15ee65d7a6c8c238135831209d6739e3f7ea36"
  },
  "kernelspec": {
   "display_name": "Python 3.7.10 64-bit ('pytorch2': conda)",
   "language": "python",
   "name": "python3"
  },
  "language_info": {
   "codemirror_mode": {
    "name": "ipython",
    "version": 3
   },
   "file_extension": ".py",
   "mimetype": "text/x-python",
   "name": "python",
   "nbconvert_exporter": "python",
   "pygments_lexer": "ipython3",
   "version": "3.7.10"
  },
  "orig_nbformat": 4
 },
 "nbformat": 4,
 "nbformat_minor": 2
}
