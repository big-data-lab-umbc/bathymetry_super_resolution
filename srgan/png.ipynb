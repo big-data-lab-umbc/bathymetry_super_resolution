{
 "cells": [
  {
   "cell_type": "code",
   "execution_count": 11,
   "metadata": {},
   "outputs": [],
   "source": [
    "import glob\n",
    "import random\n",
    "import os\n",
    "import numpy as np\n",
    "from sklearn.preprocessing import StandardScaler\n",
    "from sklearn.preprocessing import MinMaxScaler\n",
    "import rasterio\n",
    "from PIL import Image\n",
    "\n",
    "import torch\n",
    "from torch.utils.data import Dataset\n",
    "from torchvision.utils import save_image\n",
    "import torchvision.transforms as transforms"
   ]
  },
  {
   "cell_type": "code",
   "execution_count": 19,
   "metadata": {},
   "outputs": [],
   "source": [
    "\n",
    "files_hr = '/home/ubuntu/PyTorch-GAN/data/img_hr_normalized/Tile_-2.08_41.29_EPSG4326_Gebco.tif'\n",
    "\n",
    "img_hr = rasterio.open(files_hr)\n",
    "img_hr = img_hr.read(1)\n",
    "img_hr_png = np.around(img_hr*255)\n",
    "img_hr_png_uint8=img_hr_png.astype(np.uint8)\n",
    "img = Image.fromarray(img_hr_png_uint8)\n",
    "img.save(\"images/save_a_png.png\")\n",
    "\n"
   ]
  },
  {
   "cell_type": "code",
   "execution_count": 21,
   "metadata": {},
   "outputs": [
    {
     "name": "stdout",
     "output_type": "stream",
     "text": [
      "[[163. 163. 163. ... 152. 151. 151.]\n",
      " [163. 163. 163. ... 151. 151. 150.]\n",
      " [163. 163. 163. ... 151. 151. 150.]\n",
      " ...\n",
      " [161. 161. 161. ... 113. 113. 113.]\n",
      " [161. 161. 161. ... 113. 113. 113.]\n",
      " [161. 161. 161. ... 113. 113. 113.]]\n"
     ]
    }
   ],
   "source": [
    "#Inverse max = 6362, min = -10956\n",
    "max = 6362\n",
    "min = -10956\n",
    "img_open = Image.open(\"images/save_a_png.png\")\n",
    "img_open = np.float32(img_open)\n",
    "print(img_open)\n",
    "img_inverse = img_open/255\n",
    "img_inverse_tif = img_inverse *(max-min)+min #MinMAx Normalization: img_hr_scl = (img_hr-min)/(max-min)"
   ]
  },
  {
   "cell_type": "code",
   "execution_count": 24,
   "metadata": {},
   "outputs": [
    {
     "name": "stdout",
     "output_type": "stream",
     "text": [
      "[[0.6390461  0.6389883  0.6389883  ... 0.59417945 0.59279364 0.59135   ]\n",
      " [0.6389883  0.6389883  0.6389883  ... 0.5929091  0.5915233  0.5901374 ]\n",
      " [0.6389883  0.6389306  0.6389306  ... 0.59163874 0.59031063 0.5889248 ]\n",
      " ...\n",
      " [0.63038456 0.6303268  0.6302691  ... 0.44260308 0.44242984 0.44254532]\n",
      " [0.6303268  0.6302691  0.6301536  ... 0.44242984 0.44231436 0.44231436]\n",
      " [0.6302691  0.63021135 0.63009584 ... 0.4424876  0.4424876  0.4420834 ]]\n",
      "[[0.6392157  0.6392157  0.6392157  ... 0.59607846 0.5921569  0.5921569 ]\n",
      " [0.6392157  0.6392157  0.6392157  ... 0.5921569  0.5921569  0.5882353 ]\n",
      " [0.6392157  0.6392157  0.6392157  ... 0.5921569  0.5921569  0.5882353 ]\n",
      " ...\n",
      " [0.6313726  0.6313726  0.6313726  ... 0.44313726 0.44313726 0.44313726]\n",
      " [0.6313726  0.6313726  0.6313726  ... 0.44313726 0.44313726 0.44313726]\n",
      " [0.6313726  0.6313726  0.6313726  ... 0.44313726 0.44313726 0.44313726]]\n",
      "[[  111   110   110 ...  -666  -690  -715]\n",
      " [  110   110   110 ...  -688  -712  -736]\n",
      " [  110   109   109 ...  -710  -733  -757]\n",
      " ...\n",
      " [  -39   -40   -41 ... -3291 -3294 -3292]\n",
      " [  -40   -41   -43 ... -3294 -3296 -3296]\n",
      " [  -41   -42   -44 ... -3293 -3293 -3300]]\n",
      "[[  114.   114.   114. ...  -633.  -701.  -701.]\n",
      " [  114.   114.   114. ...  -701.  -701.  -769.]\n",
      " [  114.   114.   114. ...  -701.  -701.  -769.]\n",
      " ...\n",
      " [  -22.   -22.   -22. ... -3282. -3282. -3282.]\n",
      " [  -22.   -22.   -22. ... -3282. -3282. -3282.]\n",
      " [  -22.   -22.   -22. ... -3282. -3282. -3282.]]\n"
     ]
    }
   ],
   "source": [
    "#Verify\n",
    "print(img_hr) #Normalized img with range [0,1]\n",
    "print(img_inverse) # Inversed img read from PNG\n",
    "\n",
    "img_hr_origin = rasterio.open('/home/ubuntu/PyTorch-GAN/data/img_hr_tif/Tile_-2.08_41.29_EPSG4326_Gebco.tif')\n",
    "print(img_hr_origin.read(1)) # Original hr img\n",
    "print(np.around(img_inverse_tif)) # Inversed img read from PNG\n",
    "\n",
    "\n"
   ]
  },
  {
   "cell_type": "code",
   "execution_count": null,
   "metadata": {},
   "outputs": [],
   "source": [
    "# Take reciprocol"
   ]
  },
  {
   "cell_type": "code",
   "execution_count": 38,
   "metadata": {},
   "outputs": [],
   "source": [
    "files_hr = '/home/ubuntu/PyTorch-GAN/data/img_lr_reci/Tile_-2.08_41.29_EPSG4326_Etopo.tif'\n",
    "\n",
    "img_hr = rasterio.open(files_hr)\n",
    "img_hr = img_hr.read(1)\n",
    "img_hr_png = np.around(img_hr*255)\n",
    "img_hr_png_uint8=img_hr_png.astype(np.uint8)\n",
    "img = Image.fromarray(img_hr_png_uint8)\n",
    "img.save(\"images/save_reci_png.png\")"
   ]
  },
  {
   "cell_type": "code",
   "execution_count": 39,
   "metadata": {},
   "outputs": [],
   "source": [
    "#Inverse max = 10.0, min = -1.1111111640930176-1.000001072883606\n",
    "\n",
    "max = 1000000.0\n",
    "min = -1.000001072883606\n",
    "offset = 1e-6\n",
    "img_open = Image.open(\"images/save_reci_png.png\")\n",
    "img_open = np.float32(img_open)\n",
    "img_inverse = img_open/255\n",
    "img_inverse_tif = 1/(np.square(img_inverse)*(max-min)+min) - offset #MinMAx Normalization: img_hr_scl = (img_hr-min)/(max-min)"
   ]
  },
  {
   "cell_type": "code",
   "execution_count": 40,
   "metadata": {},
   "outputs": [
    {
     "name": "stdout",
     "output_type": "stream",
     "text": [
      "[[0.00100462 0.00100504 0.00100542 ... 0.0009993  0.00099939 0.00099944]\n",
      " [0.00100471 0.00100471 0.00100514 ... 0.00099935 0.00099942 0.00099947]\n",
      " [0.00100499 0.00100475 0.00100475 ... 0.00099939 0.00099945 0.00099949]\n",
      " ...\n",
      " [0.00098974 0.00099087 0.00099293 ... 0.00099985 0.00099985 0.00099985]\n",
      " [0.00098675 0.00099087 0.00099424 ... 0.00099985 0.00099985 0.00099985]\n",
      " [0.00098561 0.00099103 0.00099494 ... 0.00099985 0.00099985 0.00099985]]\n",
      "[[0. 0. 0. ... 0. 0. 0.]\n",
      " [0. 0. 0. ... 0. 0. 0.]\n",
      " [0. 0. 0. ... 0. 0. 0.]\n",
      " ...\n",
      " [0. 0. 0. ... 0. 0. 0.]\n",
      " [0. 0. 0. ... 0. 0. 0.]\n",
      " [0. 0. 0. ... 0. 0. 0.]]\n",
      "[[  111   110   110 ...  -666  -690  -715]\n",
      " [  110   110   110 ...  -688  -712  -736]\n",
      " [  110   109   109 ...  -710  -733  -757]\n",
      " ...\n",
      " [  -39   -40   -41 ... -3291 -3294 -3292]\n",
      " [  -40   -41   -43 ... -3294 -3296 -3296]\n",
      " [  -41   -42   -44 ... -3293 -3293 -3300]]\n",
      "[[-1. -1. -1. ... -1. -1. -1.]\n",
      " [-1. -1. -1. ... -1. -1. -1.]\n",
      " [-1. -1. -1. ... -1. -1. -1.]\n",
      " ...\n",
      " [-1. -1. -1. ... -1. -1. -1.]\n",
      " [-1. -1. -1. ... -1. -1. -1.]\n",
      " [-1. -1. -1. ... -1. -1. -1.]]\n"
     ]
    }
   ],
   "source": [
    "#Verify\n",
    "print(img_hr) #Normalized img with range [0,1]\n",
    "print(img_inverse) # Inversed img read from PNG\n",
    "\n",
    "img_hr_origin = rasterio.open('/home/ubuntu/PyTorch-GAN/data/img_hr_tif/Tile_-2.08_41.29_EPSG4326_Gebco.tif')\n",
    "print(img_hr_origin.read(1)) # Original hr img\n",
    "print(np.around(img_inverse_tif)) # Inversed img read from PNG"
   ]
  }
 ],
 "metadata": {
  "interpreter": {
   "hash": "a9966e83a916c80a32615d54662d086c6fc3bc99780d17bb1f79ba4074ca9b94"
  },
  "kernelspec": {
   "display_name": "Python 3.7.12 64-bit ('srgan': conda)",
   "language": "python",
   "name": "python3"
  },
  "language_info": {
   "codemirror_mode": {
    "name": "ipython",
    "version": 3
   },
   "file_extension": ".py",
   "mimetype": "text/x-python",
   "name": "python",
   "nbconvert_exporter": "python",
   "pygments_lexer": "ipython3",
   "version": "3.7.12"
  },
  "orig_nbformat": 4
 },
 "nbformat": 4,
 "nbformat_minor": 2
}
