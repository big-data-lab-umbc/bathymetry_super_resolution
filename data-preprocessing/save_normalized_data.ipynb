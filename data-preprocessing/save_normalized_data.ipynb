{
 "cells": [
  {
   "cell_type": "code",
   "execution_count": 2,
   "metadata": {},
   "outputs": [],
   "source": [
    "import rasterio\n",
    "import os\n",
    "import numpy as np"
   ]
  },
  {
   "cell_type": "code",
   "execution_count": 12,
   "metadata": {},
   "outputs": [
    {
     "name": "stdout",
     "output_type": "stream",
     "text": [
      "/home/ubuntu/PyTorch-GAN/implementations/srgan\n",
      "(52428800,)\n"
     ]
    }
   ],
   "source": [
    "#Sklearn cannot be used because 2D data is required, but we only have 1D data\n",
    "img_hr_combined = []\n",
    "imagesDirectory= '/home/ubuntu/PyTorch-GAN/data/img_hr_tif'\n",
    "#Load all pixle values of hr images to a 1D array\n",
    "for imageName in os.listdir(imagesDirectory):\n",
    "    imagePath = os.path.join(imagesDirectory, imageName)\n",
    "    img_hr = rasterio.open(imagePath)\n",
    "    img_hr = img_hr.read(1)\n",
    "    img_hr_reduced = []\n",
    "    for m in range(0,512):\n",
    "        for i in img_hr[m]:\n",
    "            img_hr_reduced.append(i)\n",
    "    img_hr_combined.append(img_hr_reduced)\n",
    "img_hr_data = []\n",
    "for m in range (0,200):\n",
    "    for i in img_hr_combined[m]:\n",
    "        img_hr_data.append(i)\n",
    "img_hr_data = np.array(img_hr_data)\n",
    "print(img_hr_data.shape)   \n",
    "\n",
    "#apply sklearn MinMax Scaler\n",
    "from sklearn.preprocessing import StandardScaler, MinMaxScaler\n",
    "img_data = img_hr_data\n",
    "img_hr_data.reshape(1,-1)\n",
    "scaler = MinMaxScaler()\n",
    "scaler.fit(img_data.reshape(1,-1))\n",
    "print(scaler.data_max_.shape)\n",
    "\n"
   ]
  },
  {
   "cell_type": "code",
   "execution_count": 3,
   "metadata": {},
   "outputs": [
    {
     "name": "stdout",
     "output_type": "stream",
     "text": [
      "-9820\n",
      "6392\n",
      "1600\n"
     ]
    }
   ],
   "source": [
    "#User-defined MinMax Normalization for LR images\n",
    "# Inverse normalization: img_lr = img_lr_normalized * (max-min) + min\n",
    "# where: max = 6151, min = -10898\n",
    "# new data: max = 6151, min = -10898\n",
    "# 2000 data: max = 6392, min = -9820\n",
    "\n",
    "imagesDirectory= '/home/ubuntu/PyTorch-GAN/data2/train/lr'\n",
    "min = 0\n",
    "max = 0\n",
    "count = 0\n",
    "for imageName in os.listdir(imagesDirectory):\n",
    "    imagePath = os.path.join(imagesDirectory, imageName)\n",
    "    img_lr = rasterio.open(imagePath)\n",
    "    img_lr = img_lr.read(1)\n",
    "    min = np.min([np.min(img_lr),min])\n",
    "    max = np.max([np.max(img_lr),max])\n",
    "    count = count + 1 \n",
    "print(min)\n",
    "print(max)\n",
    "print(count)\n",
    "\n",
    "# for imageName in os.listdir(imagesDirectory):\n",
    "#     imagePath = os.path.join(imagesDirectory, imageName)\n",
    "#     img_lr = rasterio.open(imagePath)\n",
    "#     img_lr = img_lr.read(1)\n",
    "#     img_lr_scl = (img_lr-min)/(max-min)\n",
    "#     with rasterio.Env():\n",
    "#         with rasterio.open(imagePath) as src: \n",
    "#             profile = src.meta\n",
    "#             print(profile)\n",
    "                \n",
    "#             profile.update(\n",
    "#                 dtype = rasterio.float32,\n",
    "#             )\n",
    "#             print(profile)\n",
    "#         output_path = os.path.join('/home/ubuntu/PyTorch-GAN/data/img_lr_normalized/', imageName)\n",
    "#         with rasterio.open(output_path, 'w', **profile) as dst:\n",
    "#             dst.write(img_lr_scl, indexes = 1)"
   ]
  },
  {
   "cell_type": "code",
   "execution_count": 11,
   "metadata": {},
   "outputs": [
    {
     "name": "stdout",
     "output_type": "stream",
     "text": [
      "-10802\n",
      "6787\n",
      "1600\n"
     ]
    }
   ],
   "source": [
    "# User-defined MinMax Normalization for HR images\n",
    "# Inverse normalization: img_hr = img_hr_normalized * (max-min) + min\n",
    "# where: max = 6362, min = -10956\n",
    "# new data: max = 6588, min = -10956\n",
    "# 2000 data: min = -10802, max = 6787\n",
    "imagesDirectory= '/home/ubuntu/PyTorch-GAN/data2/train/hr'\n",
    "min = 0\n",
    "max = 0\n",
    "count = 0\n",
    "for imageName in os.listdir(imagesDirectory):\n",
    "    imagePath = os.path.join(imagesDirectory, imageName)\n",
    "    img_hr = rasterio.open(imagePath)\n",
    "    img_hr = img_hr.read(1)\n",
    "    min = np.min([np.min(img_hr),min])\n",
    "    max = np.max([np.max(img_hr),max])\n",
    "    count = count+1 \n",
    "print(min)\n",
    "print(max)\n",
    "print(count)\n",
    "\n",
    "for imageName in os.listdir(imagesDirectory):\n",
    "    imagePath = os.path.join(imagesDirectory, imageName)\n",
    "    img_hr = rasterio.open(imagePath)\n",
    "    img_hr = img_hr.read(1)\n",
    "    img_hr_scl = (img_hr-min)/(max-min)\n",
    "    with rasterio.Env():\n",
    "        with rasterio.open(imagePath) as src: \n",
    "            profile = src.meta\n",
    "            print(profile)\n",
    "                \n",
    "            profile.update(\n",
    "                dtype = rasterio.float32,\n",
    "            )\n",
    "            print(profile)\n",
    "        output_path = os.path.join('/home/ubuntu/PyTorch-GAN/data/img_hr_normalized/', imageName)\n",
    "        with rasterio.open(output_path, 'w', **profile) as dst:\n",
    "            dst.write(img_hr_scl, indexes = 1)"
   ]
  },
  {
   "cell_type": "code",
   "execution_count": 28,
   "metadata": {},
   "outputs": [
    {
     "name": "stdout",
     "output_type": "stream",
     "text": [
      "-0.13280979\n"
     ]
    }
   ],
   "source": [
    "imagesDirectory= '/home/ubuntu/PyTorch-GAN/data/img_hr_normalized'\n",
    "for imageName in os.listdir(imagesDirectory):\n",
    "    imagePath = os.path.join(imagesDirectory, imageName)\n",
    "    img_hr = rasterio.open(imagePath)\n",
    "    img_hr = img_hr.read(1)\n",
    "    img_hr_scl = (img_hr-min)/(max-min)\n",
    "    with rasterio.Env():\n",
    "        with rasterio.open(imagePath) as src: \n",
    "            profile = src.meta\n",
    "            print(profile)\n",
    "                \n",
    "            profile.update(\n",
    "                dtype = rasterio.float32,\n",
    "            )\n",
    "            print(profile)\n",
    "        output_path = os.path.join('/home/ubuntu/PyTorch-GAN/data/img_hr_normalized/', imageName)\n",
    "        with rasterio.open(output_path, 'w', **profile) as dst:\n",
    "            dst.write(img_hr_scl, indexes = 1)"
   ]
  },
  {
   "cell_type": "code",
   "execution_count": null,
   "metadata": {},
   "outputs": [],
   "source": [
    "imagesDirectory= '/home/ubuntu/PyTorch-GAN/data2/train/hr'\n",
    "min = 0\n",
    "max = 0\n",
    "count = 0\n",
    "for imageName in os.listdir(imagesDirectory):\n",
    "    imagePath = os.path.join(imagesDirectory, imageName)\n",
    "    img_hr = rasterio.open(imagePath)\n",
    "    img_hr = img_hr.read(1)\n",
    "    min = np.min([np.min(img_hr),min])\n",
    "    max = np.max([np.max(img_hr),max])\n",
    "    count = count+1 \n",
    "print(min)\n",
    "print(max)\n",
    "print(count)\n",
    "\n",
    "for imageName in os.listdir(imagesDirectory):\n",
    "    imagePath = os.path.join(imagesDirectory, imageName)\n",
    "    img_hr = rasterio.open(imagePath)\n",
    "    img_hr = img_hr.read(1)\n",
    "    img_hr_scl = (img_hr-min)/(max-min)\n",
    "    with rasterio.Env():\n",
    "        with rasterio.open(imagePath) as src: \n",
    "            profile = src.meta\n",
    "            print(profile)\n",
    "                \n",
    "            profile.update(\n",
    "                dtype = rasterio.float32,\n",
    "            )\n",
    "            print(profile)\n",
    "        output_path = os.path.join('/home/ubuntu/PyTorch-GAN/data/img_hr_normalized/', imageName)\n",
    "        with rasterio.open(output_path, 'w', **profile) as dst:\n",
    "            dst.write(img_hr_scl, indexes = 1)"
   ]
  }
 ],
 "metadata": {
  "interpreter": {
   "hash": "a9966e83a916c80a32615d54662d086c6fc3bc99780d17bb1f79ba4074ca9b94"
  },
  "kernelspec": {
   "display_name": "Python 3.7.12 64-bit ('srgan': conda)",
   "language": "python",
   "name": "python3"
  },
  "language_info": {
   "codemirror_mode": {
    "name": "ipython",
    "version": 3
   },
   "file_extension": ".py",
   "mimetype": "text/x-python",
   "name": "python",
   "nbconvert_exporter": "python",
   "pygments_lexer": "ipython3",
   "version": "3.7.12"
  },
  "orig_nbformat": 4
 },
 "nbformat": 4,
 "nbformat_minor": 2
}
